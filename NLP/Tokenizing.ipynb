{
 "cells": [
  {
   "cell_type": "code",
   "execution_count": 2,
   "metadata": {},
   "outputs": [],
   "source": [
    "import spacy\n",
    "import nltk\n",
    "from nltk.corpus import stopwords\n",
    "from nltk.tokenize import word_tokenize\n",
    "from nltk.stem import PorterStemmer, WordNetLemmatizer"
   ]
  },
  {
   "cell_type": "code",
   "execution_count": 4,
   "metadata": {},
   "outputs": [
    {
     "name": "stderr",
     "output_type": "stream",
     "text": [
      "[nltk_data] Downloading package punkt to /Users/jorocca/nltk_data...\n",
      "[nltk_data]   Unzipping tokenizers/punkt.zip.\n",
      "[nltk_data] Downloading package stopwords to\n",
      "[nltk_data]     /Users/jorocca/nltk_data...\n",
      "[nltk_data]   Unzipping corpora/stopwords.zip.\n",
      "[nltk_data] Downloading package wordnet to /Users/jorocca/nltk_data...\n",
      "[nltk_data]   Package wordnet is already up-to-date!\n"
     ]
    },
    {
     "data": {
      "text/plain": [
       "True"
      ]
     },
     "execution_count": 4,
     "metadata": {},
     "output_type": "execute_result"
    }
   ],
   "source": [
    "nlp = spacy.load('en_core_web_sm')\n",
    "nltk.download('punkt')\n",
    "nltk.download('stopwords')\n",
    "nltk.download('wordnet')"
   ]
  },
  {
   "cell_type": "code",
   "execution_count": 5,
   "metadata": {},
   "outputs": [],
   "source": [
    "# Sample Text\n",
    "text = 'Text pre-processing is an essential task in Natural Language Processing (NLP). It helps to clean and prepare text data for further analysis.'"
   ]
  },
  {
   "cell_type": "code",
   "execution_count": 8,
   "metadata": {},
   "outputs": [
    {
     "name": "stdout",
     "output_type": "stream",
     "text": [
      "Tokens:  ['Text', 'pre-processing', 'is', 'an', 'essential', 'task', 'in', 'Natural', 'Language', 'Processing', '(', 'NLP', ')', '.', 'It', 'helps', 'to', 'clean', 'and', 'prepare', 'text', 'data', 'for', 'further', 'analysis', '.']\n"
     ]
    }
   ],
   "source": [
    "tokens = word_tokenize(text)\n",
    "print(\"Tokens: \", tokens)"
   ]
  },
  {
   "cell_type": "code",
   "execution_count": 9,
   "metadata": {},
   "outputs": [
    {
     "name": "stdout",
     "output_type": "stream",
     "text": [
      "Lowercased Tokens:  ['text', 'pre-processing', 'is', 'an', 'essential', 'task', 'in', 'natural', 'language', 'processing', '(', 'nlp', ')', '.', 'it', 'helps', 'to', 'clean', 'and', 'prepare', 'text', 'data', 'for', 'further', 'analysis', '.']\n"
     ]
    }
   ],
   "source": [
    "tokens = [token.lower() for token in tokens]\n",
    "print(\"Lowercased Tokens: \", tokens)"
   ]
  },
  {
   "cell_type": "code",
   "execution_count": 12,
   "metadata": {},
   "outputs": [
    {
     "name": "stdout",
     "output_type": "stream",
     "text": [
      "Tokens after stop word removal:  ['text', 'pre-processing', 'essential', 'task', 'natural', 'language', 'processing', '(', 'nlp', ')', '.', 'helps', 'clean', 'prepare', 'text', 'data', 'analysis', '.']\n"
     ]
    }
   ],
   "source": [
    "stop_words = set(stopwords.words('english'))\n",
    "tokens = [token for token in tokens if token not in stop_words]\n",
    "print('Tokens after stop word removal: ', tokens)"
   ]
  },
  {
   "cell_type": "code",
   "execution_count": 13,
   "metadata": {},
   "outputs": [
    {
     "name": "stdout",
     "output_type": "stream",
     "text": [
      "Stemmed Tokens:  ['text', 'pre-process', 'essenti', 'task', 'natur', 'languag', 'process', '(', 'nlp', ')', '.', 'help', 'clean', 'prepar', 'text', 'data', 'analysi', '.']\n"
     ]
    }
   ],
   "source": [
    "stemmer = PorterStemmer()\n",
    "stemmed_tokens = [stemmer.stem(token) for token in tokens]\n",
    "print(\"Stemmed Tokens: \", stemmed_tokens)"
   ]
  },
  {
   "cell_type": "code",
   "execution_count": 14,
   "metadata": {},
   "outputs": [
    {
     "name": "stdout",
     "output_type": "stream",
     "text": [
      "Lemmatized Tokens:  ['text', 'pre-processing', 'essential', 'task', 'natural', 'language', 'processing', '(', 'nlp', ')', '.', 'help', 'clean', 'prepare', 'text', 'data', 'analysis', '.']\n"
     ]
    }
   ],
   "source": [
    "lemmatizer = WordNetLemmatizer()\n",
    "lemmatized_tokens = [lemmatizer.lemmatize(token) for token in tokens]\n",
    "print(\"Lemmatized Tokens: \", lemmatized_tokens)"
   ]
  },
  {
   "cell_type": "code",
   "execution_count": 15,
   "metadata": {},
   "outputs": [
    {
     "name": "stdout",
     "output_type": "stream",
     "text": [
      "Lemmatized Tokens SpaCy: ['text', 'pre', 'processing', 'essential', 'task', 'natural', 'language', 'processing', 'nlp', 'help', 'clean', 'prepare', 'text', 'datum', 'analysis']\n"
     ]
    }
   ],
   "source": [
    "doc = nlp(text.lower())\n",
    "lemmatized_tokens_spacy = [token.lemma_ for token in doc if token.text not in stop_words and token.is_alpha]\n",
    "print('Lemmatized Tokens SpaCy:', lemmatized_tokens_spacy)"
   ]
  },
  {
   "cell_type": "code",
   "execution_count": null,
   "metadata": {},
   "outputs": [],
   "source": []
  }
 ],
 "metadata": {
  "kernelspec": {
   "display_name": "Python (TensorFlow)",
   "language": "python",
   "name": "tf_env"
  },
  "language_info": {
   "codemirror_mode": {
    "name": "ipython",
    "version": 3
   },
   "file_extension": ".py",
   "mimetype": "text/x-python",
   "name": "python",
   "nbconvert_exporter": "python",
   "pygments_lexer": "ipython3",
   "version": "3.10.16"
  }
 },
 "nbformat": 4,
 "nbformat_minor": 2
}
