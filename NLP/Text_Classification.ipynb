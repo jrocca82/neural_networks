{
 "cells": [
  {
   "cell_type": "code",
   "execution_count": null,
   "metadata": {},
   "outputs": [],
   "source": [
    "import nltk\n",
    "from sklearn.feature_extraction.text import TfidfVectorizer\n",
    "from sklearn.naive_bayes import MultinomialNB\n",
    "from sklearn.pipeline import make_pipeline\n",
    "from sklearn.model_selection import train_test_split, cross_val_score\n",
    "from sklearn.metrics import classification_report, accuracy_score"
   ]
  },
  {
   "cell_type": "code",
   "execution_count": 2,
   "metadata": {},
   "outputs": [
    {
     "name": "stderr",
     "output_type": "stream",
     "text": [
      "[nltk_data] Downloading package punkt to /Users/jorocca/nltk_data...\n",
      "[nltk_data]   Package punkt is already up-to-date!\n"
     ]
    },
    {
     "data": {
      "text/plain": [
       "True"
      ]
     },
     "execution_count": 2,
     "metadata": {},
     "output_type": "execute_result"
    }
   ],
   "source": [
    "nltk.download('punkt')"
   ]
  },
  {
   "cell_type": "code",
   "execution_count": 14,
   "metadata": {},
   "outputs": [],
   "source": [
    "texts = [\n",
    "    \"I love this movie, it's amazing!\",\n",
    "    \"This film is terrible, I hate it.\",\n",
    "    \"What a great performance by the actors\",\n",
    "    \"The plot was boring and predictable\",\n",
    "    \"An excellent film, highly recommend\",\n",
    "    \"Not worth the time, very disappointing\",\n",
    "    \"The cinematography was beautiful\",\n",
    "    \"Taylor Swift is mother\",\n",
    "    \"The storyline was dull and uninteresting.\",\n",
    "    \"I enjoyed every moment of this film!\",\n",
    "    \"The acting was poor and unconvincing\",\n",
    "    \"Absolutely fantastic! A must-watch\",\n",
    "    \"One of the worst movies I've ever seen\",\n",
    "    \n",
    "    # Gen Z Slang Additions\n",
    "    \"This movie is straight fire! 10/10, no cap!\",  # positive\n",
    "    \"Bro, this film is straight up mid. Hard pass.\",  # negative\n",
    "    \"Skibidi toilet level of quality, and that’s not a compliment.\",  # negative\n",
    "    \"Peak cinema. Literally bussin'.\",  # positive\n",
    "    \"This movie flopped harder than Morbius, sheesh.\",  # negative\n",
    "    \"Certified hood classic, this film slaps!\",  # positive\n",
    "    \"Main character energy. Absolutely goated with the sauce.\",  # positive\n",
    "    \"It gave off major NPC energy, super cringe.\",  # negative\n",
    "    \"If rizz was a movie, it would be this. 10/10.\",  # positive\n",
    "    \"The plot had zero rizz, completely fumbled.\",  # negative\n",
    "    \"The vibes were immaculate. W movie.\",  # positive\n",
    "    \"L script, L acting, just a big fat L overall.\",  # negative\n",
    "    \"The editing was elite, but the dialogue was straight sus.\",  # negative\n",
    "    \"This movie aged like fine wine, still a W after all these years.\",  # positive\n",
    "]\n",
    "\n",
    "labels = [\n",
    "    \"positive\", \"negative\", \"positive\", \"negative\", \"positive\", \"negative\",\n",
    "    \"positive\", \"positive\", \"negative\", \"positive\", \"negative\", \"positive\", \"negative\",\n",
    "    \n",
    "    # Labels for new additions\n",
    "    \"positive\", \"negative\", \"negative\", \"positive\", \"negative\", \"positive\",\n",
    "    \"positive\", \"negative\", \"positive\", \"negative\", \"positive\", \"negative\",\n",
    "    \"negative\", \"positive\"\n",
    "]\n"
   ]
  },
  {
   "cell_type": "code",
   "execution_count": 15,
   "metadata": {},
   "outputs": [
    {
     "name": "stdout",
     "output_type": "stream",
     "text": [
      "Train labels: (array(['negative', 'positive'], dtype='<U8'), array([10, 11]))\n",
      "Test labels: (array(['negative', 'positive'], dtype='<U8'), array([3, 3]))\n"
     ]
    }
   ],
   "source": [
    "X_train, X_test, y_train, y_test = train_test_split(texts, labels, test_size=0.2, random_state=42, stratify=labels)\n",
    "model = make_pipeline(TfidfVectorizer(), MultinomialNB())\n",
    "model.fit(X_train, y_train)\n",
    "\n",
    "import numpy as np\n",
    "print(\"Train labels:\", np.unique(y_train, return_counts=True))\n",
    "print(\"Test labels:\", np.unique(y_test, return_counts=True))"
   ]
  },
  {
   "cell_type": "code",
   "execution_count": 16,
   "metadata": {},
   "outputs": [
    {
     "name": "stdout",
     "output_type": "stream",
     "text": [
      "Accuracy: 0.8333333333333334\n",
      "Classification Report\n",
      "              precision    recall  f1-score   support\n",
      "\n",
      "    negative       1.00      0.67      0.80         3\n",
      "    positive       0.75      1.00      0.86         3\n",
      "\n",
      "    accuracy                           0.83         6\n",
      "   macro avg       0.88      0.83      0.83         6\n",
      "weighted avg       0.88      0.83      0.83         6\n",
      "\n"
     ]
    }
   ],
   "source": [
    "predicted_labels = model.predict(X_test)\n",
    "print(\"Accuracy:\", accuracy_score(y_test, predicted_labels))\n",
    "print(\"Classification Report\")\n",
    "print(classification_report(y_test, predicted_labels))"
   ]
  },
  {
   "cell_type": "code",
   "execution_count": 17,
   "metadata": {},
   "outputs": [
    {
     "name": "stdout",
     "output_type": "stream",
     "text": [
      "Text: This movie is straight up GOATED, no debate.\n",
      "Predicted Label: positive\n",
      "\n",
      "Text: Bro, this film was an absolute L, don’t waste your time.\n",
      "Predicted Label: negative\n",
      "\n",
      "Text: The cinematography was bussin', but the story? Straight mid.\n",
      "Predicted Label: positive\n",
      "\n",
      "Text: Skibidi toilet vibes all over this, unwatchable.\n",
      "Predicted Label: positive\n",
      "\n",
      "Text: The pacing was immaculate, not a single dull moment.\n",
      "Predicted Label: positive\n",
      "\n",
      "Text: Nah, this movie had NPC dialogue. Hard pass.\n",
      "Predicted Label: positive\n",
      "\n",
      "Text: This film had so much rizz, peak storytelling.\n",
      "Predicted Label: positive\n",
      "\n",
      "Text: Zero rizz, negative vibes, just pure disappointment.\n",
      "Predicted Label: positive\n",
      "\n",
      "Text: The main character was lowkey fire, but the ending fumbled.\n",
      "Predicted Label: positive\n",
      "\n",
      "Text: Certified hood classic, truly a masterpiece.\n",
      "Predicted Label: positive\n",
      "\n",
      "Text: They really thought this script was it? Straight sus.\n",
      "Predicted Label: negative\n",
      "\n",
      "Text: This one deserves an Oscar. No cap!\n",
      "Predicted Label: negative\n",
      "\n",
      "Text: Morbius 2.0... and that's not a compliment.\n",
      "Predicted Label: negative\n",
      "\n",
      "Text: W movie, W acting, W soundtrack. Just a big W.\n",
      "Predicted Label: negative\n",
      "\n",
      "Text: Bro, who wrote this? Dialogue had me crying (not in a good way).\n",
      "Predicted Label: negative\n",
      "\n"
     ]
    }
   ],
   "source": [
    "new_texts = [\n",
    "    \"This movie is straight up GOATED, no debate.\",  # positive\n",
    "    \"Bro, this film was an absolute L, don’t waste your time.\",  # negative\n",
    "    \"The cinematography was bussin', but the story? Straight mid.\",  # mixed\n",
    "    \"Skibidi toilet vibes all over this, unwatchable.\",  # negative\n",
    "    \"The pacing was immaculate, not a single dull moment.\",  # positive\n",
    "    \"Nah, this movie had NPC dialogue. Hard pass.\",  # negative\n",
    "    \"This film had so much rizz, peak storytelling.\",  # positive\n",
    "    \"Zero rizz, negative vibes, just pure disappointment.\",  # negative\n",
    "    \"The main character was lowkey fire, but the ending fumbled.\",  # mixed\n",
    "    \"Certified hood classic, truly a masterpiece.\",  # positive\n",
    "    \"They really thought this script was it? Straight sus.\",  # negative\n",
    "    \"This one deserves an Oscar. No cap!\",  # positive\n",
    "    \"Morbius 2.0... and that's not a compliment.\",  # negative\n",
    "    \"W movie, W acting, W soundtrack. Just a big W.\",  # positive\n",
    "    \"Bro, who wrote this? Dialogue had me crying (not in a good way).\",  # negative\n",
    "]\n",
    "\n",
    "\n",
    "predicted_new_labels = model.predict(new_texts)\n",
    "for text, label in zip(new_texts, predicted_new_labels):\n",
    "    print(f'Text: {text}\\nPredicted Label: {label}\\n')"
   ]
  },
  {
   "cell_type": "code",
   "execution_count": null,
   "metadata": {},
   "outputs": [],
   "source": []
  }
 ],
 "metadata": {
  "kernelspec": {
   "display_name": "Python (TensorFlow)",
   "language": "python",
   "name": "tf_env"
  },
  "language_info": {
   "codemirror_mode": {
    "name": "ipython",
    "version": 3
   },
   "file_extension": ".py",
   "mimetype": "text/x-python",
   "name": "python",
   "nbconvert_exporter": "python",
   "pygments_lexer": "ipython3",
   "version": "3.10.16"
  }
 },
 "nbformat": 4,
 "nbformat_minor": 2
}
