{
 "cells": [
  {
   "cell_type": "markdown",
   "id": "3a244a00-9e1c-4634-a14a-a10ba77f2d91",
   "metadata": {},
   "source": [
    "## Image Classification"
   ]
  },
  {
   "cell_type": "code",
   "execution_count": 2,
   "id": "3624957a-13d1-4352-bf6c-f319eb87dc60",
   "metadata": {},
   "outputs": [],
   "source": [
    "import cv2\n",
    "import numpy as np\n",
    "import random\n",
    "import tensorflow as tf"
   ]
  },
  {
   "cell_type": "code",
   "execution_count": 3,
   "id": "54ca63fa-b5c2-4586-9e92-e7ee8a7ccd34",
   "metadata": {},
   "outputs": [],
   "source": [
    "# Draw random shape (circle, square, or triangle)\n",
    "def draw_shape(canvas):\n",
    "    shape_type = random.choice(['circle', 'square', 'triangle'])\n",
    "    color=tuple(np.random.randint(0,256,3).tolist())\n",
    "    if shape_type == 'circle':\n",
    "        center = (np.random.randint(20,80), np.random.randint(20,80))\n",
    "        radius = np.random.randint(5, 15)\n",
    "        cv2.circle(canvas, center, radius, color, -1)\n",
    "    elif shape_type == 'square':\n",
    "        start_point = (np.random.randint(10,60), np.random.randint(10, 60))\n",
    "        end_point = (start_point[0]+ np.random.randint(10,20), start_point[1]+np.random.randint(10,20))\n",
    "        cv2.rectangle(canvas, start_point, end_point, color, -1)\n",
    "    elif shape_type == 'triangle':\n",
    "        pt1 = (np.random.randint(10,90), np.random.randint(10,90))\n",
    "        pt2 = (np.random.randint(10,90), np.random.randint(10,90))\n",
    "        pt3 = (np.random.randint(10,90), np.random.randint(10,90))\n",
    "        points = np.array([pt1, pt2, pt3], np.int32)\n",
    "        points = points.reshape((-1, 1, 2))\n",
    "        cv2.polylines(canvas, [points], isClosed=True, color=color, thickness=1)\n",
    "        cv2.fillPoly(canvas, [points], color)\n",
    "    return shape_type, canvas"
   ]
  },
  {
   "cell_type": "code",
   "execution_count": 4,
   "id": "9ebc3d35-dbf9-4ae4-8b43-cbbd38f9086a",
   "metadata": {},
   "outputs": [],
   "source": [
    "# Generate data set\n",
    "def generate_dataset(num_samples):\n",
    "    images = []\n",
    "    labels = []\n",
    "    for _ in range(num_samples):\n",
    "        shape_type, canvas = draw_shape(np.zeros((100, 100, 3), dtype=np.uint8))\n",
    "        images.append(canvas)\n",
    "        if shape_type == 'circle':\n",
    "            labels.append(0)\n",
    "        elif shape_type == 'square':\n",
    "            labels.append(1)\n",
    "        elif shape_type == 'triangle':\n",
    "            labels.append(2)\n",
    "    return np.array(images), np.array(labels)"
   ]
  },
  {
   "cell_type": "code",
   "execution_count": 5,
   "id": "fc627b05-41a1-4da7-bf23-9348d6b8cf81",
   "metadata": {},
   "outputs": [
    {
     "name": "stdout",
     "output_type": "stream",
     "text": [
      "1000 1000 1000\n"
     ]
    }
   ],
   "source": [
    "# Generate 1000 samples\n",
    "num_samples = 1000\n",
    "X, y = generate_dataset(num_samples)\n",
    "print(len(X), len(y), num_samples)"
   ]
  },
  {
   "cell_type": "code",
   "execution_count": 6,
   "id": "ade3590e-a6f3-44b3-8ca8-d16a5102b362",
   "metadata": {},
   "outputs": [],
   "source": [
    "# Shuffle dataset\n",
    "indices = np.arange(num_samples)\n",
    "np.random.shuffle(indices)\n",
    "X = X[indices]\n",
    "y = y[indices]"
   ]
  },
  {
   "cell_type": "code",
   "execution_count": 7,
   "id": "abba0ff6-3221-46aa-a0e8-61ae07638ef9",
   "metadata": {},
   "outputs": [],
   "source": [
    "# Split data set for training and tests\n",
    "split_ratio = 0.8\n",
    "split_index = int(split_ratio * num_samples)\n",
    "X_train, X_test = X[:split_index], X[split_index:]\n",
    "y_train, y_test = y[:split_index], y[split_index:]"
   ]
  },
  {
   "cell_type": "code",
   "execution_count": 8,
   "id": "86494e94-60fa-4f38-a472-ee5962405a97",
   "metadata": {},
   "outputs": [],
   "source": [
    "# Convert labels to one-hot encoding\n",
    "num_classes = 3\n",
    "y_train = tf.keras.utils.to_categorical(y_train, num_classes)\n",
    "y_test = tf.keras.utils.to_categorical(y_test, num_classes)"
   ]
  },
  {
   "cell_type": "code",
   "execution_count": 9,
   "id": "cc6287e1-7c93-43f4-a0de-00188662645a",
   "metadata": {},
   "outputs": [
    {
     "name": "stderr",
     "output_type": "stream",
     "text": [
      "2025-03-13 12:08:40.844927: I metal_plugin/src/device/metal_device.cc:1154] Metal device set to: Apple M3 Pro\n",
      "2025-03-13 12:08:40.844988: I metal_plugin/src/device/metal_device.cc:296] systemMemory: 36.00 GB\n",
      "2025-03-13 12:08:40.844998: I metal_plugin/src/device/metal_device.cc:313] maxCacheSize: 13.50 GB\n",
      "2025-03-13 12:08:40.845028: I tensorflow/core/common_runtime/pluggable_device/pluggable_device_factory.cc:305] Could not identify NUMA node of platform GPU ID 0, defaulting to 0. Your kernel may not have been built with NUMA support.\n",
      "2025-03-13 12:08:40.845044: I tensorflow/core/common_runtime/pluggable_device/pluggable_device_factory.cc:271] Created TensorFlow device (/job:localhost/replica:0/task:0/device:GPU:0 with 0 MB memory) -> physical PluggableDevice (device: 0, name: METAL, pci bus id: <undefined>)\n"
     ]
    }
   ],
   "source": [
    "# Define CNN Architectur\n",
    "model = tf.keras.Sequential([\n",
    "   tf.keras.Input(shape=(100, 100, 3)),\n",
    "    tf.keras.layers.Conv2D(32, (3, 3), activation='relu'),\n",
    "    tf.keras.layers.MaxPooling2D((2, 2)),\n",
    "    tf.keras.layers.Conv2D(64, (3, 3), activation='relu'),\n",
    "    tf.keras.layers.MaxPooling2D((2, 2)),\n",
    "    tf.keras.layers.Conv2D(64, (3, 3), activation='relu'),\n",
    "    tf.keras.layers.Flatten(),\n",
    "    tf.keras.layers.Dense(num_classes, activation='softmax')\n",
    "])"
   ]
  },
  {
   "cell_type": "code",
   "execution_count": 10,
   "id": "9216086d-858d-416f-adb2-5a7f2b1243f6",
   "metadata": {},
   "outputs": [],
   "source": [
    "# Compile model\n",
    "model.compile(optimizer='adam', loss='categorical_crossentropy', metrics=['accuracy'])"
   ]
  },
  {
   "cell_type": "code",
   "execution_count": 11,
   "id": "cb1fd34e-97d9-4612-8a56-391a73048fcc",
   "metadata": {},
   "outputs": [
    {
     "name": "stdout",
     "output_type": "stream",
     "text": [
      "Epoch 1/10\n"
     ]
    },
    {
     "name": "stderr",
     "output_type": "stream",
     "text": [
      "2025-03-13 12:08:41.265368: I tensorflow/core/grappler/optimizers/custom_graph_optimizer_registry.cc:117] Plugin optimizer for device_type GPU is enabled.\n"
     ]
    },
    {
     "name": "stdout",
     "output_type": "stream",
     "text": [
      "\u001b[1m25/25\u001b[0m \u001b[32m━━━━━━━━━━━━━━━━━━━━\u001b[0m\u001b[37m\u001b[0m \u001b[1m2s\u001b[0m 35ms/step - accuracy: 0.3995 - loss: 4.8551 - val_accuracy: 0.5250 - val_loss: 0.9372\n",
      "Epoch 2/10\n",
      "\u001b[1m25/25\u001b[0m \u001b[32m━━━━━━━━━━━━━━━━━━━━\u001b[0m\u001b[37m\u001b[0m \u001b[1m1s\u001b[0m 25ms/step - accuracy: 0.7014 - loss: 0.7543 - val_accuracy: 0.5800 - val_loss: 0.8233\n",
      "Epoch 3/10\n",
      "\u001b[1m25/25\u001b[0m \u001b[32m━━━━━━━━━━━━━━━━━━━━\u001b[0m\u001b[37m\u001b[0m \u001b[1m1s\u001b[0m 28ms/step - accuracy: 0.8736 - loss: 0.4129 - val_accuracy: 0.6850 - val_loss: 0.7235\n",
      "Epoch 4/10\n",
      "\u001b[1m25/25\u001b[0m \u001b[32m━━━━━━━━━━━━━━━━━━━━\u001b[0m\u001b[37m\u001b[0m \u001b[1m1s\u001b[0m 26ms/step - accuracy: 0.9642 - loss: 0.1583 - val_accuracy: 0.7100 - val_loss: 0.7432\n",
      "Epoch 5/10\n",
      "\u001b[1m25/25\u001b[0m \u001b[32m━━━━━━━━━━━━━━━━━━━━\u001b[0m\u001b[37m\u001b[0m \u001b[1m1s\u001b[0m 26ms/step - accuracy: 0.9959 - loss: 0.0503 - val_accuracy: 0.7350 - val_loss: 0.7007\n",
      "Epoch 6/10\n",
      "\u001b[1m25/25\u001b[0m \u001b[32m━━━━━━━━━━━━━━━━━━━━\u001b[0m\u001b[37m\u001b[0m \u001b[1m1s\u001b[0m 25ms/step - accuracy: 1.0000 - loss: 0.0215 - val_accuracy: 0.7700 - val_loss: 0.7227\n",
      "Epoch 7/10\n",
      "\u001b[1m25/25\u001b[0m \u001b[32m━━━━━━━━━━━━━━━━━━━━\u001b[0m\u001b[37m\u001b[0m \u001b[1m1s\u001b[0m 26ms/step - accuracy: 1.0000 - loss: 0.0098 - val_accuracy: 0.7700 - val_loss: 0.7873\n",
      "Epoch 8/10\n",
      "\u001b[1m25/25\u001b[0m \u001b[32m━━━━━━━━━━━━━━━━━━━━\u001b[0m\u001b[37m\u001b[0m \u001b[1m1s\u001b[0m 25ms/step - accuracy: 1.0000 - loss: 0.0057 - val_accuracy: 0.7800 - val_loss: 0.8439\n",
      "Epoch 9/10\n",
      "\u001b[1m25/25\u001b[0m \u001b[32m━━━━━━━━━━━━━━━━━━━━\u001b[0m\u001b[37m\u001b[0m \u001b[1m1s\u001b[0m 25ms/step - accuracy: 1.0000 - loss: 0.0031 - val_accuracy: 0.7750 - val_loss: 0.8515\n",
      "Epoch 10/10\n",
      "\u001b[1m25/25\u001b[0m \u001b[32m━━━━━━━━━━━━━━━━━━━━\u001b[0m\u001b[37m\u001b[0m \u001b[1m1s\u001b[0m 26ms/step - accuracy: 1.0000 - loss: 0.0029 - val_accuracy: 0.7750 - val_loss: 0.8721\n"
     ]
    },
    {
     "data": {
      "text/plain": [
       "<keras.src.callbacks.history.History at 0x31465f970>"
      ]
     },
     "execution_count": 11,
     "metadata": {},
     "output_type": "execute_result"
    }
   ],
   "source": [
    "# Train model\n",
    "model.fit(X_train, y_train, epochs=10, batch_size=32, validation_data=(X_test, y_test))"
   ]
  },
  {
   "cell_type": "code",
   "execution_count": 12,
   "id": "1a2419fa-0bda-4449-8733-25f4c4007247",
   "metadata": {},
   "outputs": [
    {
     "name": "stdout",
     "output_type": "stream",
     "text": [
      "7/7 - 0s - 15ms/step - accuracy: 0.7750 - loss: 0.8721\n",
      "\n",
      "Test accuracy: 0.7749999761581421\n"
     ]
    }
   ],
   "source": [
    "# Evaluate model\n",
    "test_loss, test_acc = model.evaluate(X_test, y_test, verbose=2)\n",
    "print('\\nTest accuracy:', test_acc)"
   ]
  },
  {
   "cell_type": "code",
   "execution_count": null,
   "id": "afa9b4ee-be28-4e90-96ce-6dee97e05965",
   "metadata": {},
   "outputs": [],
   "source": []
  }
 ],
 "metadata": {
  "kernelspec": {
   "display_name": "Python (TensorFlow)",
   "language": "python",
   "name": "tf_env"
  },
  "language_info": {
   "codemirror_mode": {
    "name": "ipython",
    "version": 3
   },
   "file_extension": ".py",
   "mimetype": "text/x-python",
   "name": "python",
   "nbconvert_exporter": "python",
   "pygments_lexer": "ipython3",
   "version": "3.10.16"
  }
 },
 "nbformat": 4,
 "nbformat_minor": 5
}
