{
 "cells": [
  {
   "cell_type": "code",
   "execution_count": 1,
   "metadata": {},
   "outputs": [],
   "source": [
    "import random"
   ]
  },
  {
   "cell_type": "code",
   "execution_count": 2,
   "metadata": {},
   "outputs": [],
   "source": [
    "def create_markov_chain(text, order=1):\n",
    "    words = text.split()\n",
    "    markov_chain = {}\n",
    "    for i in range(len(words) - order):\n",
    "        prefix = tuple(words[i:i + order])\n",
    "        suffix = words[i + order]\n",
    "        if prefix in markov_chain:\n",
    "            markov_chain[prefix].append(suffix)\n",
    "        else:\n",
    "            markov_chain[prefix] = [suffix]\n",
    "    return markov_chain"
   ]
  },
  {
   "cell_type": "code",
   "execution_count": 3,
   "metadata": {},
   "outputs": [],
   "source": [
    "def generate_text(markov_chain, num_words=100):\n",
    "    prefix = random.choice(list(markov_chain.keys()))\n",
    "    generated_text = list(prefix)\n",
    "    while len(generated_text) < num_words:\n",
    "        if prefix in markov_chain:\n",
    "            next_word = random.choice(markov_chain[prefix])\n",
    "            generated_text.append(next_word)\n",
    "            prefix = tuple(generated_text[-len(prefix):])\n",
    "        else:\n",
    "            break\n",
    "    return \" \".join(generated_text)"
   ]
  },
  {
   "cell_type": "code",
   "execution_count": 4,
   "metadata": {},
   "outputs": [],
   "source": [
    "text_corpus = \"\"\"The quick brown fox jumps over the lazy dog. \n",
    "                 The fox is clever and quick. \n",
    "                 Dogs are loyal and lazy. \n",
    "                 The forest is vast and deep. \n",
    "                 The sun sets over the horizon. \n",
    "                 A wise owl watches from the trees.\"\"\"\n",
    "\n",
    "markov_chain = create_markov_chain(text_corpus, order=2)\n",
    "generated_text = generate_text(markov_chain, num_words=20)"
   ]
  },
  {
   "cell_type": "code",
   "execution_count": 5,
   "metadata": {},
   "outputs": [
    {
     "name": "stdout",
     "output_type": "stream",
     "text": [
      "Generated Text:  clever and quick. Dogs are loyal and lazy. The forest is vast and deep. The sun sets over the horizon.\n"
     ]
    }
   ],
   "source": [
    "print(\"Generated Text: \", generated_text)"
   ]
  },
  {
   "cell_type": "code",
   "execution_count": null,
   "metadata": {},
   "outputs": [],
   "source": []
  }
 ],
 "metadata": {
  "kernelspec": {
   "display_name": "Python (TensorFlow)",
   "language": "python",
   "name": "tf_env"
  },
  "language_info": {
   "codemirror_mode": {
    "name": "ipython",
    "version": 3
   },
   "file_extension": ".py",
   "mimetype": "text/x-python",
   "name": "python",
   "nbconvert_exporter": "python",
   "pygments_lexer": "ipython3",
   "version": "3.10.16"
  }
 },
 "nbformat": 4,
 "nbformat_minor": 2
}
