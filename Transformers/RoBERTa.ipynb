{
 "cells": [
  {
   "cell_type": "markdown",
   "metadata": {},
   "source": [
    "# QA Agent"
   ]
  },
  {
   "cell_type": "code",
   "execution_count": 14,
   "metadata": {},
   "outputs": [],
   "source": [
    "import pandas as pd\n",
    "import torch\n",
    "import numpy as np\n",
    "import matplotlib.pyplot as plt\n",
    "from datasets import Dataset\n",
    "from transformers import (\n",
    "    AutoModelForQuestionAnswering, \n",
    "    AutoTokenizer,\n",
    "    TrainingArguments,\n",
    "    Trainer,\n",
    "    DataCollatorWithPadding\n",
    ")\n",
    "\n",
    "# Set device to MPS (Apple Silicon GPU) if available, otherwise use CPU\n",
    "device = torch.device(\"mps\") if torch.backends.mps.is_available() else torch.device(\"cpu\")"
   ]
  },
  {
   "cell_type": "code",
   "execution_count": 2,
   "metadata": {},
   "outputs": [],
   "source": [
    "qa_data = [\n",
    "    (\"The Eiffel Tower is located in Paris, France.\", \"Where is the Eiffel Tower?\", \"Paris, France\"),\n",
    "    (\"Albert Einstein developed the theory of relativity.\", \"Who developed the theory of relativity?\", \"Albert Einstein\"),\n",
    "    (\"Python is a programming language used for web development, data science, and AI.\", \"What is Python used for?\", \"Web development, data science, and AI\"),\n",
    "    (\"The Amazon Rainforest is home to over 10 million species of animals and plants.\", \"What is the Amazon Rainforest home to?\", \"Over 10 million species of animals and plants\"),\n",
    "    (\"The Great Wall of China was built to protect against invasions.\", \"Why was the Great Wall of China built?\", \"To protect against invasions\")\n",
    "]"
   ]
  },
  {
   "cell_type": "code",
   "execution_count": 3,
   "metadata": {},
   "outputs": [],
   "source": [
    "df = pd.DataFrame(qa_data, columns=[\"context\", \"question\", \"answer\"])"
   ]
  },
  {
   "cell_type": "code",
   "execution_count": 4,
   "metadata": {},
   "outputs": [
    {
     "data": {
      "text/plain": [
       "RobertaForQuestionAnswering(\n",
       "  (roberta): RobertaModel(\n",
       "    (embeddings): RobertaEmbeddings(\n",
       "      (word_embeddings): Embedding(50265, 768, padding_idx=1)\n",
       "      (position_embeddings): Embedding(514, 768, padding_idx=1)\n",
       "      (token_type_embeddings): Embedding(1, 768)\n",
       "      (LayerNorm): LayerNorm((768,), eps=1e-05, elementwise_affine=True)\n",
       "      (dropout): Dropout(p=0.1, inplace=False)\n",
       "    )\n",
       "    (encoder): RobertaEncoder(\n",
       "      (layer): ModuleList(\n",
       "        (0-11): 12 x RobertaLayer(\n",
       "          (attention): RobertaAttention(\n",
       "            (self): RobertaSdpaSelfAttention(\n",
       "              (query): Linear(in_features=768, out_features=768, bias=True)\n",
       "              (key): Linear(in_features=768, out_features=768, bias=True)\n",
       "              (value): Linear(in_features=768, out_features=768, bias=True)\n",
       "              (dropout): Dropout(p=0.1, inplace=False)\n",
       "            )\n",
       "            (output): RobertaSelfOutput(\n",
       "              (dense): Linear(in_features=768, out_features=768, bias=True)\n",
       "              (LayerNorm): LayerNorm((768,), eps=1e-05, elementwise_affine=True)\n",
       "              (dropout): Dropout(p=0.1, inplace=False)\n",
       "            )\n",
       "          )\n",
       "          (intermediate): RobertaIntermediate(\n",
       "            (dense): Linear(in_features=768, out_features=3072, bias=True)\n",
       "            (intermediate_act_fn): GELUActivation()\n",
       "          )\n",
       "          (output): RobertaOutput(\n",
       "            (dense): Linear(in_features=3072, out_features=768, bias=True)\n",
       "            (LayerNorm): LayerNorm((768,), eps=1e-05, elementwise_affine=True)\n",
       "            (dropout): Dropout(p=0.1, inplace=False)\n",
       "          )\n",
       "        )\n",
       "      )\n",
       "    )\n",
       "  )\n",
       "  (qa_outputs): Linear(in_features=768, out_features=2, bias=True)\n",
       ")"
      ]
     },
     "execution_count": 4,
     "metadata": {},
     "output_type": "execute_result"
    }
   ],
   "source": [
    "model_name = \"deepset/roberta-base-squad2\"\n",
    "tokenizer = AutoTokenizer.from_pretrained(model_name)\n",
    "model = AutoModelForQuestionAnswering.from_pretrained(model_name)\n",
    "\n",
    "# Move model to the correct device\n",
    "model.to(device)"
   ]
  },
  {
   "cell_type": "code",
   "execution_count": 5,
   "metadata": {},
   "outputs": [],
   "source": [
    "def preprocess_function(examples):\n",
    "    return tokenizer(\n",
    "        examples[\"question\"], examples[\"context\"],\n",
    "        truncation=True, padding=\"max_length\", max_length=384,\n",
    "        return_tensors=\"pt\"\n",
    "    )"
   ]
  },
  {
   "cell_type": "code",
   "execution_count": 6,
   "metadata": {},
   "outputs": [],
   "source": [
    "qa_dataset = Dataset.from_pandas(df)"
   ]
  },
  {
   "cell_type": "code",
   "execution_count": 7,
   "metadata": {},
   "outputs": [],
   "source": [
    "def add_labels(example):\n",
    "    inputs = tokenizer(\n",
    "        example[\"question\"], example[\"context\"],\n",
    "        truncation=True, padding=\"max_length\", max_length=384,\n",
    "        return_offsets_mapping=True  # This returns character index mappings\n",
    "    )\n",
    "\n",
    "    # Extract answer\n",
    "    answer = example[\"answer\"]\n",
    "    start_char = example[\"context\"].find(answer)\n",
    "    end_char = start_char + len(answer) - 1  # Subtract 1 to avoid off-by-one errors\n",
    "\n",
    "    # Find corresponding token positions\n",
    "    offsets = inputs[\"offset_mapping\"]\n",
    "    start_positions = None\n",
    "    end_positions = None\n",
    "\n",
    "    for idx, (start, end) in enumerate(offsets):\n",
    "        if start <= start_char < end:  # Check if token contains start_char\n",
    "            start_positions = idx\n",
    "        if start <= end_char < end:  # Check if token contains end_char\n",
    "            end_positions = idx\n",
    "            break  # Stop once we find the end\n",
    "\n",
    "    # If start_positions or end_positions is None, set them to CLS token (index 0)\n",
    "    if start_positions is None or end_positions is None:\n",
    "        start_positions = 0  # CLS token index\n",
    "        end_positions = 0\n",
    "\n",
    "    # Add start and end positions to the inputs\n",
    "    inputs[\"start_positions\"] = start_positions\n",
    "    inputs[\"end_positions\"] = end_positions\n",
    "\n",
    "    # Remove offset mapping before returning (we don't need it in training)\n",
    "    del inputs[\"offset_mapping\"]\n",
    "\n",
    "    return inputs\n"
   ]
  },
  {
   "cell_type": "code",
   "execution_count": 8,
   "metadata": {},
   "outputs": [
    {
     "data": {
      "application/vnd.jupyter.widget-view+json": {
       "model_id": "70b62c794f7c4479a42ebc248fd4368a",
       "version_major": 2,
       "version_minor": 0
      },
      "text/plain": [
       "Map:   0%|          | 0/5 [00:00<?, ? examples/s]"
      ]
     },
     "metadata": {},
     "output_type": "display_data"
    }
   ],
   "source": [
    "tokenized_dataset = qa_dataset.map(add_labels)\n",
    "data_collator = DataCollatorWithPadding(tokenizer=tokenizer)\n"
   ]
  },
  {
   "cell_type": "code",
   "execution_count": 9,
   "metadata": {},
   "outputs": [],
   "source": [
    "training_args = TrainingArguments(\n",
    "    output_dir=\"./results\",              # Directory to save model checkpoints\n",
    "    eval_strategy=\"epoch\",         # Evaluate at the end of each epoch\n",
    "    per_device_train_batch_size=2,       # Training batch size per device\n",
    "    per_device_eval_batch_size=2,        # Evaluation batch size per device\n",
    "    num_train_epochs=3,                   # Number of epochs\n",
    "    save_steps=1000,                      # Save every 1000 steps\n",
    "    logging_dir=\"./logs\",                 # Directory for logs\n",
    ")"
   ]
  },
  {
   "cell_type": "code",
   "execution_count": 10,
   "metadata": {},
   "outputs": [],
   "source": [
    "# Define Trainer\n",
    "trainer = Trainer(\n",
    "    model=model,\n",
    "    args=training_args,\n",
    "    train_dataset=tokenized_dataset,\n",
    "    eval_dataset=tokenized_dataset,  # Normally, you should use a separate validation dataset\n",
    "    processing_class=tokenizer,\n",
    "    data_collator=data_collator\n",
    ")"
   ]
  },
  {
   "cell_type": "code",
   "execution_count": 11,
   "metadata": {},
   "outputs": [
    {
     "data": {
      "text/html": [
       "\n",
       "    <div>\n",
       "      \n",
       "      <progress value='9' max='9' style='width:300px; height:20px; vertical-align: middle;'></progress>\n",
       "      [9/9 00:05, Epoch 3/3]\n",
       "    </div>\n",
       "    <table border=\"1\" class=\"dataframe\">\n",
       "  <thead>\n",
       " <tr style=\"text-align: left;\">\n",
       "      <th>Epoch</th>\n",
       "      <th>Training Loss</th>\n",
       "      <th>Validation Loss</th>\n",
       "    </tr>\n",
       "  </thead>\n",
       "  <tbody>\n",
       "    <tr>\n",
       "      <td>1</td>\n",
       "      <td>No log</td>\n",
       "      <td>2.225821</td>\n",
       "    </tr>\n",
       "    <tr>\n",
       "      <td>2</td>\n",
       "      <td>No log</td>\n",
       "      <td>1.173933</td>\n",
       "    </tr>\n",
       "    <tr>\n",
       "      <td>3</td>\n",
       "      <td>No log</td>\n",
       "      <td>0.982020</td>\n",
       "    </tr>\n",
       "  </tbody>\n",
       "</table><p>"
      ],
      "text/plain": [
       "<IPython.core.display.HTML object>"
      ]
     },
     "metadata": {},
     "output_type": "display_data"
    },
    {
     "data": {
      "text/plain": [
       "TrainOutput(global_step=9, training_loss=2.8306827545166016, metrics={'train_runtime': 5.7675, 'train_samples_per_second': 2.601, 'train_steps_per_second': 1.56, 'total_flos': 2939588513280.0, 'train_loss': 2.8306827545166016, 'epoch': 3.0})"
      ]
     },
     "execution_count": 11,
     "metadata": {},
     "output_type": "execute_result"
    }
   ],
   "source": [
    "trainer.train()"
   ]
  },
  {
   "cell_type": "code",
   "execution_count": 13,
   "metadata": {},
   "outputs": [
    {
     "name": "stdout",
     "output_type": "stream",
     "text": [
      "Question: Where is the Eiffel Tower?\n",
      "Predicted Answer:  Paris, France\n"
     ]
    }
   ],
   "source": [
    "def answer_question(question, context):\n",
    "    inputs = tokenizer(question, context, return_tensors=\"pt\", truncation=True)\n",
    "    inputs = {key: value.to(device) for key, value in inputs.items()}  # Move inputs to MPS\n",
    "    \n",
    "    with torch.no_grad():\n",
    "        outputs = model(**inputs)\n",
    "\n",
    "    # Extract the predicted answer span\n",
    "    answer_start = torch.argmax(outputs.start_logits)\n",
    "    answer_end = torch.argmax(outputs.end_logits) + 1\n",
    "    answer = tokenizer.convert_tokens_to_string(tokenizer.convert_ids_to_tokens(inputs[\"input_ids\"][0][answer_start:answer_end]))\n",
    "\n",
    "    return answer\n",
    "\n",
    "# Example Test\n",
    "context = \"The Eiffel Tower is located in Paris, France.\"\n",
    "question = \"Where is the Eiffel Tower?\"\n",
    "answer = answer_question(question, context)\n",
    "print(f\"Question: {question}\")\n",
    "print(f\"Predicted Answer: {answer}\")\n"
   ]
  },
  {
   "cell_type": "code",
   "execution_count": 15,
   "metadata": {},
   "outputs": [],
   "source": [
    "\n",
    "def plot_confidence_scores(question, context):\n",
    "    # Tokenize and move inputs to MPS\n",
    "    inputs = tokenizer(question, context, return_tensors=\"pt\", truncation=True)\n",
    "    inputs = {key: value.to(device) for key, value in inputs.items()}\n",
    "\n",
    "    # Get model outputs\n",
    "    with torch.no_grad():\n",
    "        outputs = model(**inputs)\n",
    "\n",
    "    # Convert logits to probabilities\n",
    "    start_probs = torch.nn.functional.softmax(outputs.start_logits, dim=-1).cpu().numpy().flatten()\n",
    "    end_probs = torch.nn.functional.softmax(outputs.end_logits, dim=-1).cpu().numpy().flatten()\n",
    "\n",
    "    # Get tokenized words for plotting\n",
    "    tokens = tokenizer.convert_ids_to_tokens(inputs[\"input_ids\"][0].cpu().numpy())\n",
    "\n",
    "    # Plot Start and End Probabilities\n",
    "    plt.figure(figsize=(12, 6))\n",
    "    plt.plot(range(len(tokens)), start_probs, label=\"Start Probabilities\", color=\"blue\")\n",
    "    plt.plot(range(len(tokens)), end_probs, label=\"End Probabilities\", color=\"red\")\n",
    "    plt.xticks(range(len(tokens)), tokens, rotation=90, fontsize=8)  # Show tokens as labels\n",
    "    plt.xlabel(\"Token Index\")\n",
    "    plt.ylabel(\"Probability\")\n",
    "    plt.title(f\"Confidence Scores for '{question}'\")\n",
    "    plt.legend()\n",
    "    plt.show()"
   ]
  },
  {
   "cell_type": "code",
   "execution_count": 16,
   "metadata": {},
   "outputs": [
    {
     "data": {
      "image/png": "[encoded data removed]",
      "text/plain": [
       "<Figure size 1200x600 with 1 Axes>"
      ]
     },
     "metadata": {},
     "output_type": "display_data"
    }
   ],
   "source": [
    "context = \"The Eiffel Tower is located in Paris, France.\"\n",
    "question = \"Where is the Eiffel Tower?\"\n",
    "plot_confidence_scores(question, context)"
   ]
  },
  {
   "cell_type": "code",
   "execution_count": null,
   "metadata": {},
   "outputs": [],
   "source": []
  }
 ],
 "metadata": {
  "kernelspec": {
   "display_name": "Python (TensorFlow)",
   "language": "python",
   "name": "tf_env"
  },
  "language_info": {
   "codemirror_mode": {
    "name": "ipython",
    "version": 3
   },
   "file_extension": ".py",
   "mimetype": "text/x-python",
   "name": "python",
   "nbconvert_exporter": "python",
   "pygments_lexer": "ipython3",
   "version": "3.10.16"
  }
 },
 "nbformat": 4,
 "nbformat_minor": 2
}
